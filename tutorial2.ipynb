{
 "cells": [
  {
   "cell_type": "markdown",
   "id": "c09d6000",
   "metadata": {},
   "source": [
    "# write a program that will change this commas to dots and dots to comma\n",
    "# Text = \"123,345,765.90,\""
   ]
  },
  {
   "cell_type": "code",
   "execution_count": 61,
   "id": "4235aade",
   "metadata": {},
   "outputs": [
    {
     "name": "stdout",
     "output_type": "stream",
     "text": [
      "123,345,765.90,\n",
      "123,345,765.90,\n",
      "123,345,765.90,\n",
      "123,345,765.90,\n",
      "123,345,765.90,\n",
      "123,345,765.90,\n",
      "123,345,765.90,\n",
      "123,345,765.90,\n",
      "123,345,765.90,\n",
      "123,345,765.90,\n",
      "123,345,765.90,\n",
      "123,345,765.90,\n",
      "123,345,765.90,\n",
      "123,345,765.90,\n",
      "123,345,765.90,\n"
     ]
    }
   ],
   "source": [
    "txt = \"123,345,765.90,\"\n",
    "for i in range(len(txt)):\n",
    "    print(txt)"
   ]
  },
  {
   "cell_type": "code",
   "execution_count": 62,
   "id": "3bdf2272",
   "metadata": {},
   "outputs": [
    {
     "name": "stdout",
     "output_type": "stream",
     "text": [
      "123.345.765.90.\n"
     ]
    }
   ],
   "source": [
    "for i in range(len(txt)):\n",
    "    if txt[i] == \",\":\n",
    "        new_txt = txt.replace(\",\",\".\")\n",
    "print(new_txt)"
   ]
  },
  {
   "cell_type": "markdown",
   "id": "fab78105",
   "metadata": {},
   "source": [
    "# write a program to remove the character which have even index values of a given string\n"
   ]
  },
  {
   "cell_type": "code",
   "execution_count": 63,
   "id": "4329afeb",
   "metadata": {},
   "outputs": [
    {
     "name": "stdout",
     "output_type": "stream",
     "text": [
      "i am an amazing ceatue\n"
     ]
    }
   ],
   "source": [
    "txt = \"i am an amazing creature\"\n",
    "for i in range(len(txt)):\n",
    "    if i %2==0:\n",
    "        new_txt = txt.replace(txt[i],\"\")\n",
    "print(new_txt)"
   ]
  },
  {
   "cell_type": "code",
   "execution_count": 64,
   "id": "63dd90b3",
   "metadata": {},
   "outputs": [
    {
     "name": "stdout",
     "output_type": "stream",
     "text": [
      "h\n",
      "e\n",
      "l\n",
      "l\n"
     ]
    }
   ],
   "source": [
    "word = \"hello world\"\n",
    "for i in word:\n",
    "    if i==\"o\":\n",
    "        break\n",
    "    print(i)"
   ]
  },
  {
   "cell_type": "code",
   "execution_count": 65,
   "id": "d2577f73",
   "metadata": {},
   "outputs": [
    {
     "name": "stdout",
     "output_type": "stream",
     "text": [
      "enter number of courses1\n",
      "enter score quit\n"
     ]
    }
   ],
   "source": [
    "number_course = int(input(\"enter number of courses\"))\n",
    "\n",
    "for i in range(number_course):\n",
    "    score = input(\"enter score \")\n",
    "    if score == \"quit\":\n",
    "        break\n",
    "    print(score)"
   ]
  },
  {
   "cell_type": "code",
   "execution_count": 66,
   "id": "1e2cb493",
   "metadata": {},
   "outputs": [
    {
     "name": "stdout",
     "output_type": "stream",
     "text": [
      "w\n",
      "e\n",
      " \n",
      "r\n",
      "e\n",
      " \n",
      "t\n",
      "h\n",
      "e\n",
      " \n",
      "s\n",
      "o\n",
      "-\n",
      "c\n",
      "l\n",
      "l\n",
      "e\n",
      "d\n",
      " \n",
      "v\n",
      "i\n",
      "k\n",
      "i\n",
      "n\n",
      "g\n",
      "s\n",
      " \n",
      "f\n",
      "r\n",
      "o\n",
      "m\n",
      " \n",
      "t\n",
      "h\n",
      "e\n",
      " \n",
      "n\n",
      "o\n",
      "r\n",
      "t\n",
      "h\n"
     ]
    }
   ],
   "source": [
    "#continue to skip a data if the condition is true\n",
    "quote = \"we are the so-called vikings from the north\"\n",
    "for i in quote:\n",
    "    if i==\"a\":\n",
    "        continue\n",
    "    print(i)"
   ]
  },
  {
   "cell_type": "markdown",
   "id": "0d8ea6b9",
   "metadata": {},
   "source": [
    "#  nested for loop i.e having a for loop in another for loop"
   ]
  },
  {
   "cell_type": "code",
   "execution_count": 67,
   "id": "61dbfbb0",
   "metadata": {},
   "outputs": [
    {
     "name": "stdout",
     "output_type": "stream",
     "text": [
      "1x1=1\n",
      "1x2=2\n",
      "1x3=3\n",
      "1x4=4\n",
      "1x5=5\n",
      "1x6=6\n",
      "1x7=7\n",
      "1x8=8\n",
      "1x9=9\n",
      "1x10=10\n",
      "1x11=11\n",
      "1x12=12\n",
      "2x1=2\n",
      "2x2=4\n",
      "2x3=6\n",
      "2x4=8\n",
      "2x5=10\n",
      "2x6=12\n",
      "2x7=14\n",
      "2x8=16\n",
      "2x9=18\n",
      "2x10=20\n",
      "2x11=22\n",
      "2x12=24\n",
      "3x1=3\n",
      "3x2=6\n",
      "3x3=9\n",
      "3x4=12\n",
      "3x5=15\n",
      "3x6=18\n",
      "3x7=21\n",
      "3x8=24\n",
      "3x9=27\n",
      "3x10=30\n",
      "3x11=33\n",
      "3x12=36\n",
      "4x1=4\n",
      "4x2=8\n",
      "4x3=12\n",
      "4x4=16\n",
      "4x5=20\n",
      "4x6=24\n",
      "4x7=28\n",
      "4x8=32\n",
      "4x9=36\n",
      "4x10=40\n",
      "4x11=44\n",
      "4x12=48\n",
      "5x1=5\n",
      "5x2=10\n",
      "5x3=15\n",
      "5x4=20\n",
      "5x5=25\n",
      "5x6=30\n",
      "5x7=35\n",
      "5x8=40\n",
      "5x9=45\n",
      "5x10=50\n",
      "5x11=55\n",
      "5x12=60\n",
      "6x1=6\n",
      "6x2=12\n",
      "6x3=18\n",
      "6x4=24\n",
      "6x5=30\n",
      "6x6=36\n",
      "6x7=42\n",
      "6x8=48\n",
      "6x9=54\n",
      "6x10=60\n",
      "6x11=66\n",
      "6x12=72\n",
      "7x1=7\n",
      "7x2=14\n",
      "7x3=21\n",
      "7x4=28\n",
      "7x5=35\n",
      "7x6=42\n",
      "7x7=49\n",
      "7x8=56\n",
      "7x9=63\n",
      "7x10=70\n",
      "7x11=77\n",
      "7x12=84\n",
      "8x1=8\n",
      "8x2=16\n",
      "8x3=24\n",
      "8x4=32\n",
      "8x5=40\n",
      "8x6=48\n",
      "8x7=56\n",
      "8x8=64\n",
      "8x9=72\n",
      "8x10=80\n",
      "8x11=88\n",
      "8x12=96\n",
      "9x1=9\n",
      "9x2=18\n",
      "9x3=27\n",
      "9x4=36\n",
      "9x5=45\n",
      "9x6=54\n",
      "9x7=63\n",
      "9x8=72\n",
      "9x9=81\n",
      "9x10=90\n",
      "9x11=99\n",
      "9x12=108\n",
      "10x1=10\n",
      "10x2=20\n",
      "10x3=30\n",
      "10x4=40\n",
      "10x5=50\n",
      "10x6=60\n",
      "10x7=70\n",
      "10x8=80\n",
      "10x9=90\n",
      "10x10=100\n",
      "10x11=110\n",
      "10x12=120\n",
      "11x1=11\n",
      "11x2=22\n",
      "11x3=33\n",
      "11x4=44\n",
      "11x5=55\n",
      "11x6=66\n",
      "11x7=77\n",
      "11x8=88\n",
      "11x9=99\n",
      "11x10=110\n",
      "11x11=121\n",
      "11x12=132\n",
      "12x1=12\n",
      "12x2=24\n",
      "12x3=36\n",
      "12x4=48\n",
      "12x5=60\n",
      "12x6=72\n",
      "12x7=84\n",
      "12x8=96\n",
      "12x9=108\n",
      "12x10=120\n",
      "12x11=132\n",
      "12x12=144\n"
     ]
    }
   ],
   "source": [
    "#multiplication table using nested for loop\n",
    "\n",
    "for i in range(1,13):\n",
    "    for j in range(1,13):\n",
    "        ans = i*j\n",
    "        table = \"{}x{}={}\"\n",
    "        print(table.format(i,j,ans))\n",
    "\n"
   ]
  },
  {
   "cell_type": "code",
   "execution_count": 68,
   "id": "2920a67a",
   "metadata": {},
   "outputs": [],
   "source": [
    "for i in range(100):\n",
    "    pass\n",
    "    "
   ]
  },
  {
   "cell_type": "code",
   "execution_count": 69,
   "id": "51065750",
   "metadata": {},
   "outputs": [
    {
     "name": "stdout",
     "output_type": "stream",
     "text": [
      "1\n",
      "2\n",
      "3\n",
      "4\n",
      "5\n",
      "6\n",
      "7\n",
      "8\n",
      "9\n",
      "10\n"
     ]
    }
   ],
   "source": [
    "# write a while loop to print 1 - 10\n",
    "num = 1\n",
    "while num<=10:\n",
    "    print(num)\n",
    "    num += 1"
   ]
  },
  {
   "cell_type": "code",
   "execution_count": 70,
   "id": "403c68a0",
   "metadata": {},
   "outputs": [
    {
     "name": "stdout",
     "output_type": "stream",
     "text": [
      "enter your score 12\n",
      "enter your score -1\n"
     ]
    }
   ],
   "source": [
    "#write a while loop to enter scores and add \n",
    "\n",
    "total_score = 0\n",
    "score =0\n",
    "while score >= 0:\n",
    "    score = int(input(\"enter your score \"))\n",
    "    "
   ]
  },
  {
   "cell_type": "code",
   "execution_count": 71,
   "id": "0701508a",
   "metadata": {},
   "outputs": [
    {
     "name": "stdout",
     "output_type": "stream",
     "text": [
      "enter your score-1\n",
      "0\n"
     ]
    }
   ],
   "source": [
    "t_score = 0\n",
    "score = \"\"\n",
    "while True:\n",
    "    score = eval(input(\"enter your score\"))\n",
    "    \n",
    "    if score <0:\n",
    "        \n",
    "        break\n",
    "    t_score += score\n",
    "print(t_score)"
   ]
  },
  {
   "cell_type": "code",
   "execution_count": 72,
   "id": "1fb06bb8",
   "metadata": {},
   "outputs": [],
   "source": [
    " def grade(score):\n",
    "        grade =\"\"\n",
    "        if score >=75:\n",
    "            grade = \"A\"\n",
    "        elif score >=60:\n",
    "            grade = \"B\"\n",
    "        print(grade)"
   ]
  },
  {
   "cell_type": "code",
   "execution_count": 73,
   "id": "84d3c5fa",
   "metadata": {},
   "outputs": [
    {
     "name": "stdout",
     "output_type": "stream",
     "text": [
      "enter number of course-1\n",
      "your total score is :0\n"
     ]
    }
   ],
   "source": [
    "#write a simple program that can calculate the cgpa of a student\n",
    "\n",
    "\n",
    "#enter number of courses using for loop\n",
    "# score for each courses \n",
    "#calculate the total score \n",
    "\n",
    "course = eval(input(\"enter number of course\"))\n",
    "\n",
    "total_score = 0\n",
    "\n",
    "for i in range(course):\n",
    "    score =int(input(\"enter score\")) \n",
    "    if score < 0:\n",
    "        \n",
    "        \n",
    "        \n",
    "        break\n",
    "    grade(score)\n",
    "        \n",
    "    \n",
    "    total_score +=score\n",
    "print(f'your total score is :{total_score}')\n"
   ]
  },
  {
   "cell_type": "markdown",
   "id": "1e202475",
   "metadata": {},
   "source": [
    "# functions\n",
    "\n",
    "# user defined and inbuilt function\n",
    "\n",
    "# def name_of_function ():\n",
    "\n"
   ]
  },
  {
   "cell_type": "code",
   "execution_count": 74,
   "id": "fd69a3b9",
   "metadata": {},
   "outputs": [
    {
     "data": {
      "text/plain": [
       "25"
      ]
     },
     "execution_count": 74,
     "metadata": {},
     "output_type": "execute_result"
    }
   ],
   "source": [
    "# a function that adds two number together\n",
    "\n",
    "\n",
    "def addition(x, y):\n",
    "    ans = x+y\n",
    "    return ans\n",
    "\n",
    "a = addition(12,13)\n",
    "\n",
    "a\n",
    "\n",
    "\n",
    "\n"
   ]
  },
  {
   "cell_type": "code",
   "execution_count": 75,
   "id": "761e850b",
   "metadata": {},
   "outputs": [
    {
     "data": {
      "text/plain": [
       "5.0"
      ]
     },
     "execution_count": 75,
     "metadata": {},
     "output_type": "execute_result"
    }
   ],
   "source": [
    "def division(x,y):\n",
    "    ans = x/y\n",
    "    return ans\n",
    "\n",
    "b  = division(25,5)\n",
    "b"
   ]
  },
  {
   "cell_type": "markdown",
   "id": "a09b6065",
   "metadata": {},
   "source": [
    "# arbitrary arguments"
   ]
  },
  {
   "cell_type": "code",
   "execution_count": 76,
   "id": "8af65431",
   "metadata": {},
   "outputs": [],
   "source": [
    "def fullname(fname,lname):\n",
    "    fullname = fname +\" \"+lname\n",
    "    return fullname"
   ]
  },
  {
   "cell_type": "code",
   "execution_count": 77,
   "id": "695d546b",
   "metadata": {},
   "outputs": [
    {
     "name": "stdout",
     "output_type": "stream",
     "text": [
      "Sulaiman Muhammed\n"
     ]
    }
   ],
   "source": [
    "fname =  \"Sulaiman\"\n",
    "lname = \"Muhammed\"\n",
    "fullname = fullname(fname,lname)\n",
    "print(fullname)"
   ]
  },
  {
   "cell_type": "code",
   "execution_count": 78,
   "id": "049f5370",
   "metadata": {},
   "outputs": [
    {
     "name": "stdout",
     "output_type": "stream",
     "text": [
      " sulaiman muhammed Dexter MM\n"
     ]
    }
   ],
   "source": [
    "def fullname(*names):\n",
    "    fullname = \"\"\n",
    "    for name in names:\n",
    "        fullname +=\" \"+name\n",
    "    return fullname\n",
    "        \n",
    "    \n",
    "fname =  fullname(\"sulaiman\",\"muhammed\",\"Dexter\",\"MM\")\n",
    "print(fname)"
   ]
  },
  {
   "cell_type": "markdown",
   "id": "3f5f5ffa",
   "metadata": {},
   "source": [
    "# keyword args"
   ]
  },
  {
   "cell_type": "code",
   "execution_count": 79,
   "id": "e3f8a0bb",
   "metadata": {},
   "outputs": [
    {
     "name": "stdout",
     "output_type": "stream",
     "text": [
      "enter your first nameasd\n",
      "enter your last namedfd\n",
      "enter your agedsf\n",
      "enter your genderds\n",
      "My name is asd dfd , i am dsf years old\n"
     ]
    }
   ],
   "source": [
    "def  profile(fname,lname,age,gender):\n",
    "    print(f'My name is {fname} {lname} , i am {age} years old')\n",
    "\n",
    "\n",
    "fname = input(\"enter your first name\")\n",
    "l_name = input('enter your last name')\n",
    "age = input(\"enter your age\")\n",
    "gender = input(\"enter your gender\")\n",
    "\n",
    "profile(gender=gender,lname= l_name, age= age,fname=fname)"
   ]
  },
  {
   "cell_type": "markdown",
   "id": "c4280d67",
   "metadata": {},
   "source": [
    "# arbitrary keyword args"
   ]
  },
  {
   "cell_type": "code",
   "execution_count": 80,
   "id": "cd289d77",
   "metadata": {},
   "outputs": [
    {
     "name": "stdout",
     "output_type": "stream",
     "text": [
      "Male\n"
     ]
    }
   ],
   "source": [
    " def profile(**user):\n",
    "        return user\n",
    "\n",
    "p = profile(name=\"Sulaiman Muhammed\",age=20,gender=\"Male\")\n",
    "print(p['gender'])\n",
    "\n"
   ]
  },
  {
   "cell_type": "markdown",
   "id": "c455ed49",
   "metadata": {},
   "source": [
    "# Python Collections\n",
    "## list\n",
    "## tuple\n",
    "## dictionary\n",
    "## set"
   ]
  },
  {
   "cell_type": "markdown",
   "id": "c7fb5d30",
   "metadata": {},
   "source": [
    "# List\n",
    "\n",
    "## list are used to store multiple items in a single variable\n",
    "\n",
    "## lst = []\n",
    "## lst = list()"
   ]
  },
  {
   "cell_type": "code",
   "execution_count": 81,
   "id": "7efd4314",
   "metadata": {},
   "outputs": [
    {
     "name": "stdout",
     "output_type": "stream",
     "text": [
      "['mango', 'apple', 'pawpaw']\n"
     ]
    }
   ],
   "source": [
    "fruits =  ['mango','apple','pawpaw']\n",
    "print(fruits)"
   ]
  },
  {
   "cell_type": "code",
   "execution_count": 82,
   "id": "d5837657",
   "metadata": {},
   "outputs": [
    {
     "data": {
      "text/plain": [
       "['mango', 'apple', 'pawpaw']"
      ]
     },
     "execution_count": 82,
     "metadata": {},
     "output_type": "execute_result"
    }
   ],
   "source": [
    "fruits = list((\"mango\",\"apple\",\"pawpaw\"))\n",
    "fruits"
   ]
  },
  {
   "cell_type": "code",
   "execution_count": 83,
   "id": "8812b9ac",
   "metadata": {},
   "outputs": [
    {
     "data": {
      "text/plain": [
       "['toha', 20, True, ['john', 'ade'], 'milk']"
      ]
     },
     "execution_count": 83,
     "metadata": {},
     "output_type": "execute_result"
    }
   ],
   "source": [
    "lst = ['toha',20,True,['john','ade'],(\"milk\")]\n",
    "lst"
   ]
  },
  {
   "cell_type": "code",
   "execution_count": 84,
   "id": "98736abe",
   "metadata": {},
   "outputs": [],
   "source": [
    "lst1 = []\n",
    "#lst1 = list()"
   ]
  },
  {
   "cell_type": "code",
   "execution_count": 85,
   "id": "b2200e76",
   "metadata": {},
   "outputs": [
    {
     "data": {
      "text/plain": [
       "['apple', 'oraimo', 'infinix', 'nokia']"
      ]
     },
     "execution_count": 85,
     "metadata": {},
     "output_type": "execute_result"
    }
   ],
   "source": [
    "product = ['samsung','oraimo','infinix','nokia']\n",
    "product[0] = \"apple\"\n",
    "product"
   ]
  },
  {
   "cell_type": "code",
   "execution_count": 86,
   "id": "127eae39",
   "metadata": {},
   "outputs": [
    {
     "data": {
      "text/plain": [
       "['apple', 'oraimo', 'infinix', 'blackberry']"
      ]
     },
     "execution_count": 86,
     "metadata": {},
     "output_type": "execute_result"
    }
   ],
   "source": [
    "product[-1] = \"blackberry\"\n",
    "product"
   ]
  },
  {
   "cell_type": "markdown",
   "id": "035cb0f8",
   "metadata": {},
   "source": [
    "# slicing of a list "
   ]
  },
  {
   "cell_type": "code",
   "execution_count": 87,
   "id": "67ebcf07",
   "metadata": {},
   "outputs": [
    {
     "data": {
      "text/plain": [
       "['oraimo', 'infinix']"
      ]
     },
     "execution_count": 87,
     "metadata": {},
     "output_type": "execute_result"
    }
   ],
   "source": [
    "product[1:3]"
   ]
  },
  {
   "cell_type": "code",
   "execution_count": 88,
   "id": "be2e5707",
   "metadata": {},
   "outputs": [
    {
     "data": {
      "text/plain": [
       "['oraimo', 'infinix', 'blackberry']"
      ]
     },
     "execution_count": 88,
     "metadata": {},
     "output_type": "execute_result"
    }
   ],
   "source": [
    "product[1:]"
   ]
  },
  {
   "cell_type": "code",
   "execution_count": 89,
   "id": "6dff6f82",
   "metadata": {},
   "outputs": [
    {
     "data": {
      "text/plain": [
       "['apple', 'oraimo', 'infinix']"
      ]
     },
     "execution_count": 89,
     "metadata": {},
     "output_type": "execute_result"
    }
   ],
   "source": [
    "product[:3]"
   ]
  },
  {
   "cell_type": "markdown",
   "id": "73ca8339",
   "metadata": {},
   "source": [
    "# list Methods\n",
    "## append()  -> to append element or item to a list\n",
    "## pop()    -> to remove element from a list \n",
    "## extend() -> to join two list together\n",
    "## clear()  \n",
    "## insert()  -> to add item to a list with position specification\n",
    "## remove()\n",
    "## count()\n",
    "## copy()\n",
    "## sort()\n",
    "## reverse()"
   ]
  },
  {
   "cell_type": "code",
   "execution_count": 90,
   "id": "34568e3c",
   "metadata": {},
   "outputs": [
    {
     "data": {
      "text/plain": [
       "['john', 'salman', 'Azooz', 'sharon', 'Joseph', 'Monday']"
      ]
     },
     "execution_count": 90,
     "metadata": {},
     "output_type": "execute_result"
    }
   ],
   "source": [
    "student = ['john','salman','Azooz','sharon']\n",
    "student.append(\"Joseph\")\n",
    "student.append(\"Monday\")\n",
    "student\n",
    "\n",
    "\n"
   ]
  },
  {
   "cell_type": "code",
   "execution_count": 91,
   "id": "3b833f2b",
   "metadata": {},
   "outputs": [
    {
     "data": {
      "text/plain": [
       "['john', 'salman', 'Azooz', 'sharon', 'Joseph']"
      ]
     },
     "execution_count": 91,
     "metadata": {},
     "output_type": "execute_result"
    }
   ],
   "source": [
    "student.pop()\n",
    "student"
   ]
  },
  {
   "cell_type": "code",
   "execution_count": 92,
   "id": "257fd7e5",
   "metadata": {},
   "outputs": [
    {
     "data": {
      "text/plain": [
       "['john', 'salman', 'Azooz', 'sharon']"
      ]
     },
     "execution_count": 92,
     "metadata": {},
     "output_type": "execute_result"
    }
   ],
   "source": [
    "student.pop(4)\n",
    "student"
   ]
  },
  {
   "cell_type": "code",
   "execution_count": 93,
   "id": "c019ae8d",
   "metadata": {},
   "outputs": [
    {
     "data": {
      "text/plain": [
       "['ade', 'bola', 'timi', 'ruth', 'john', 'salman', 'Azooz', 'sharon']"
      ]
     },
     "execution_count": 93,
     "metadata": {},
     "output_type": "execute_result"
    }
   ],
   "source": [
    "student2 = ['ade','bola','timi','ruth']\n",
    "student2.extend(student)\n",
    "student2"
   ]
  },
  {
   "cell_type": "code",
   "execution_count": 94,
   "id": "18ba46cf",
   "metadata": {},
   "outputs": [
    {
     "data": {
      "text/plain": [
       "[]"
      ]
     },
     "execution_count": 94,
     "metadata": {},
     "output_type": "execute_result"
    }
   ],
   "source": [
    "color = ['red','green','yellow']\n",
    "color.clear()\n",
    "color"
   ]
  },
  {
   "cell_type": "code",
   "execution_count": 95,
   "id": "660451af",
   "metadata": {},
   "outputs": [
    {
     "data": {
      "text/plain": [
       "['ade',\n",
       " 'Muhammed',\n",
       " 'bola',\n",
       " 'timi',\n",
       " 'ruth',\n",
       " 'john',\n",
       " 'salman',\n",
       " 'Azooz',\n",
       " 'sharon']"
      ]
     },
     "execution_count": 95,
     "metadata": {},
     "output_type": "execute_result"
    }
   ],
   "source": [
    "student2.insert(1,\"Muhammed\")\n",
    "student2"
   ]
  },
  {
   "cell_type": "code",
   "execution_count": 96,
   "id": "23458106",
   "metadata": {},
   "outputs": [
    {
     "data": {
      "text/plain": [
       "['Muhammed', 'bola', 'timi', 'ruth', 'john', 'salman', 'Azooz', 'sharon']"
      ]
     },
     "execution_count": 96,
     "metadata": {},
     "output_type": "execute_result"
    }
   ],
   "source": [
    "student2.remove(\"ade\")\n",
    "student2"
   ]
  },
  {
   "cell_type": "code",
   "execution_count": 97,
   "id": "5f37ebb5",
   "metadata": {},
   "outputs": [
    {
     "data": {
      "text/plain": [
       "1"
      ]
     },
     "execution_count": 97,
     "metadata": {},
     "output_type": "execute_result"
    }
   ],
   "source": [
    "student2.count('Muhammed')"
   ]
  },
  {
   "cell_type": "code",
   "execution_count": 179,
   "id": "ad8d1280",
   "metadata": {},
   "outputs": [],
   "source": [
    "new_list = student2.copy()"
   ]
  },
  {
   "cell_type": "code",
   "execution_count": 164,
   "id": "eda081cc",
   "metadata": {},
   "outputs": [
    {
     "data": {
      "text/plain": [
       "['Muhammed', 'bola', 'timi', 'ruth', 'john', 'salman', 'Azooz', 'sharon']"
      ]
     },
     "execution_count": 164,
     "metadata": {},
     "output_type": "execute_result"
    }
   ],
   "source": [
    "new_list"
   ]
  },
  {
   "cell_type": "code",
   "execution_count": 165,
   "id": "fff42ab0",
   "metadata": {},
   "outputs": [],
   "source": [
    "new_list.sort()"
   ]
  },
  {
   "cell_type": "code",
   "execution_count": 166,
   "id": "a08d9adc",
   "metadata": {},
   "outputs": [
    {
     "data": {
      "text/plain": [
       "['Azooz', 'Muhammed', 'bola', 'john', 'ruth', 'salman', 'sharon', 'timi']"
      ]
     },
     "execution_count": 166,
     "metadata": {},
     "output_type": "execute_result"
    }
   ],
   "source": [
    "new_list"
   ]
  },
  {
   "cell_type": "code",
   "execution_count": 167,
   "id": "9ad31a71",
   "metadata": {},
   "outputs": [
    {
     "data": {
      "text/plain": [
       "['timi', 'sharon', 'salman', 'ruth', 'john', 'bola', 'Muhammed', 'Azooz']"
      ]
     },
     "execution_count": 167,
     "metadata": {},
     "output_type": "execute_result"
    }
   ],
   "source": [
    "new_list.reverse()\n",
    "new_list"
   ]
  },
  {
   "cell_type": "markdown",
   "id": "f4c54703",
   "metadata": {},
   "source": [
    "# loops with list"
   ]
  },
  {
   "cell_type": "code",
   "execution_count": 168,
   "id": "bdc7f47f",
   "metadata": {},
   "outputs": [
    {
     "name": "stdout",
     "output_type": "stream",
     "text": [
      "timi\n",
      "sharon\n",
      "salman\n",
      "ruth\n",
      "john\n",
      "bola\n",
      "Muhammed\n",
      "Azooz\n"
     ]
    }
   ],
   "source": [
    "for i in range(len(new_list)):\n",
    "    print(new_list[i])\n",
    "    "
   ]
  },
  {
   "cell_type": "code",
   "execution_count": 169,
   "id": "2f8f755f",
   "metadata": {},
   "outputs": [
    {
     "name": "stdout",
     "output_type": "stream",
     "text": [
      "timi\n",
      "sharon\n",
      "salman\n",
      "ruth\n",
      "john\n",
      "bola\n",
      "Muhammed\n",
      "Azooz\n"
     ]
    }
   ],
   "source": [
    "for i in new_list:\n",
    "    print(i)"
   ]
  },
  {
   "cell_type": "code",
   "execution_count": 170,
   "id": "b2302377",
   "metadata": {},
   "outputs": [
    {
     "name": "stdout",
     "output_type": "stream",
     "text": [
      "TIMI\n",
      "SHARON\n",
      "SALMAN\n",
      "RUTH\n",
      "JOHN\n",
      "BOLA\n",
      "MUHAMMED\n",
      "AZOOZ\n"
     ]
    }
   ],
   "source": [
    "for i in range(len(new_list)):\n",
    "    print(new_list[i].upper())"
   ]
  },
  {
   "cell_type": "code",
   "execution_count": 171,
   "id": "4968daec",
   "metadata": {},
   "outputs": [
    {
     "name": "stdout",
     "output_type": "stream",
     "text": [
      "sharon\n",
      "ruth\n",
      "bola\n",
      "Azooz\n"
     ]
    }
   ],
   "source": [
    "for i in range(len(new_list)):\n",
    "    if i%2!=0:\n",
    "        print(new_list[i])"
   ]
  },
  {
   "cell_type": "code",
   "execution_count": 172,
   "id": "55cd3ef9",
   "metadata": {},
   "outputs": [
    {
     "data": {
      "text/plain": [
       "['timi', 'sharon', 'salman', 'ruth', 'john', 'bola', 'Muhammed', 'Azooz']"
      ]
     },
     "execution_count": 172,
     "metadata": {},
     "output_type": "execute_result"
    }
   ],
   "source": [
    "new_list"
   ]
  },
  {
   "cell_type": "code",
   "execution_count": 259,
   "id": "c8bfaf8e",
   "metadata": {},
   "outputs": [
    {
     "data": {
      "text/plain": [
       "6"
      ]
     },
     "execution_count": 259,
     "metadata": {},
     "output_type": "execute_result"
    }
   ],
   "source": [
    "course = [\"MATH\",\"ENGLISH\",\"PLB\",'PHY',\"CHE\",\"ZLY\"]\n",
    "len(course)"
   ]
  },
  {
   "cell_type": "code",
   "execution_count": 260,
   "id": "c8a87ce1",
   "metadata": {
    "scrolled": true
   },
   "outputs": [],
   "source": [
    "new_course = []\n",
    "for j in range(len(course)):\n",
    "    if j%2==1:\n",
    "        new_course.append(course[j])\n",
    "\n",
    "        \n"
   ]
  },
  {
   "cell_type": "code",
   "execution_count": 261,
   "id": "d1e2006f",
   "metadata": {},
   "outputs": [
    {
     "data": {
      "text/plain": [
       "['ENGLISH', 'PHY', 'ZLY']"
      ]
     },
     "execution_count": 261,
     "metadata": {},
     "output_type": "execute_result"
    }
   ],
   "source": [
    "new_course"
   ]
  },
  {
   "cell_type": "markdown",
   "id": "c7a02988",
   "metadata": {},
   "source": [
    "# list Comprehension"
   ]
  },
  {
   "cell_type": "code",
   "execution_count": 264,
   "id": "a4ce0420",
   "metadata": {},
   "outputs": [
    {
     "data": {
      "text/plain": [
       "[0, 1, 4, 9, 16, 25, 36, 49, 64, 81, 100]"
      ]
     },
     "execution_count": 264,
     "metadata": {},
     "output_type": "execute_result"
    }
   ],
   "source": [
    "number = [i**2 for i in range(0,11)]\n",
    "number"
   ]
  },
  {
   "cell_type": "code",
   "execution_count": 266,
   "id": "edeccffd",
   "metadata": {},
   "outputs": [
    {
     "data": {
      "text/plain": [
       "[0, 2, 4, 6, 8]"
      ]
     },
     "execution_count": 266,
     "metadata": {},
     "output_type": "execute_result"
    }
   ],
   "source": [
    "even  = [i for i in range(10) if i%2==0]\n",
    "even"
   ]
  },
  {
   "cell_type": "code",
   "execution_count": 267,
   "id": "9bf2a8f3",
   "metadata": {},
   "outputs": [
    {
     "name": "stdout",
     "output_type": "stream",
     "text": [
      "['ENGLISH', 'PHY', 'ZLY']\n"
     ]
    }
   ],
   "source": [
    "n_course = [course[j] for j in range(len(course)) if j%2==1]\n",
    "print(n_course)"
   ]
  },
  {
   "cell_type": "code",
   "execution_count": 269,
   "id": "78b78b62",
   "metadata": {},
   "outputs": [
    {
     "name": "stdout",
     "output_type": "stream",
     "text": [
      "[5, 10, 15, 20, 25, 30, 35, 40, 45, 50]\n"
     ]
    }
   ],
   "source": [
    "num = [i for i in range(1,51) if i%5==0]\n",
    "print(num)"
   ]
  },
  {
   "cell_type": "code",
   "execution_count": 3,
   "id": "69102f58",
   "metadata": {},
   "outputs": [
    {
     "name": "stdout",
     "output_type": "stream",
     "text": [
      "['a', 'b', 'c', 'd', 'e', 'f', 'g', 'h', 'i', 'j', 'k', 'l', 'm', 'n', 'o', 'p', 'q']\n"
     ]
    }
   ],
   "source": [
    "txt = \"abcdefghijklmnopq\"\n",
    "lst = [i for i in txt]\n",
    "print(lst)"
   ]
  },
  {
   "cell_type": "code",
   "execution_count": 5,
   "id": "0c2cd77c",
   "metadata": {},
   "outputs": [
    {
     "data": {
      "text/plain": [
       "'a'"
      ]
     },
     "execution_count": 5,
     "metadata": {},
     "output_type": "execute_result"
    }
   ],
   "source": [
    "tup = (\"a\",\"b\")\n",
    "tup[0]"
   ]
  },
  {
   "cell_type": "code",
   "execution_count": null,
   "id": "324f9e3b",
   "metadata": {},
   "outputs": [],
   "source": []
  }
 ],
 "metadata": {
  "kernelspec": {
   "display_name": "Python 3 (ipykernel)",
   "language": "python",
   "name": "python3"
  },
  "language_info": {
   "codemirror_mode": {
    "name": "ipython",
    "version": 3
   },
   "file_extension": ".py",
   "mimetype": "text/x-python",
   "name": "python",
   "nbconvert_exporter": "python",
   "pygments_lexer": "ipython3",
   "version": "3.10.5"
  }
 },
 "nbformat": 4,
 "nbformat_minor": 5
}
