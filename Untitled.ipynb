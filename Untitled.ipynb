{
 "cells": [
  {
   "cell_type": "markdown",
   "id": "8753be51",
   "metadata": {},
   "source": [
    "Text type\n",
    "1 String \n",
    "Numeric Type\n",
    "1 integer\n",
    "2 Float\n",
    "complex\n",
    "Sequence \n",
    "1 List\n",
    "2 Tupple\n",
    "3 range\n",
    "Set Type\n",
    "1 set\n",
    "boolean type\n",
    "1 boolean\n"
   ]
  },
  {
   "cell_type": "code",
   "execution_count": null,
   "id": "ad3bee1e",
   "metadata": {},
   "outputs": [],
   "source": []
  },
  {
   "cell_type": "code",
   "execution_count": 1,
   "id": "17ad4688",
   "metadata": {},
   "outputs": [],
   "source": [
    "text =  \"My name is Sulaiman Muhammed\""
   ]
  },
  {
   "cell_type": "markdown",
   "id": "e2a22164",
   "metadata": {},
   "source": [
    "# index of a string starts from zero \n",
    "# len(variable) this returns the length of a string\n",
    "# print(len(text))\n",
    "# print(text[-1])\n",
    "# slicing of a string with positive indexing\n",
    "# variable[starting index : stoping indext]\n",
    "# example\n"
   ]
  },
  {
   "cell_type": "code",
   "execution_count": 2,
   "id": "6ecc9331",
   "metadata": {},
   "outputs": [
    {
     "name": "stdout",
     "output_type": "stream",
     "text": [
      "My name\n"
     ]
    }
   ],
   "source": [
    "print(text[0:7])"
   ]
  },
  {
   "cell_type": "code",
   "execution_count": 3,
   "id": "b393b021",
   "metadata": {},
   "outputs": [
    {
     "name": "stdout",
     "output_type": "stream",
     "text": [
      "Sulaiman Muhammed\n"
     ]
    }
   ],
   "source": [
    "print(text[11:28])"
   ]
  },
  {
   "cell_type": "code",
   "execution_count": 4,
   "id": "7ae71479",
   "metadata": {},
   "outputs": [
    {
     "name": "stdout",
     "output_type": "stream",
     "text": [
      "My name\n"
     ]
    }
   ],
   "source": [
    "print(text[:7])"
   ]
  },
  {
   "cell_type": "code",
   "execution_count": 5,
   "id": "92fc44d5",
   "metadata": {},
   "outputs": [
    {
     "name": "stdout",
     "output_type": "stream",
     "text": [
      "Sulaiman Muhammed\n"
     ]
    }
   ],
   "source": [
    "print(text[11:])"
   ]
  },
  {
   "cell_type": "markdown",
   "id": "42188f60",
   "metadata": {},
   "source": [
    "# Negative slicing of a string "
   ]
  },
  {
   "cell_type": "code",
   "execution_count": 6,
   "id": "06987cf0",
   "metadata": {},
   "outputs": [
    {
     "name": "stdout",
     "output_type": "stream",
     "text": [
      "Sulaiman Muhammed\n"
     ]
    }
   ],
   "source": [
    "name = text[-17:]\n",
    "print(name)"
   ]
  },
  {
   "cell_type": "markdown",
   "id": "b2eb9865",
   "metadata": {},
   "source": [
    "# String Methods \n",
    "# upper() this converts a string to upper case\n",
    "#  lower()  this converts a string to lower case\n",
    "#  strip()  this removes whitespace from a string \n",
    "#   rstrip() right strip\n",
    "#   lstrip()  left strip\n",
    "#  swapcase()\n",
    "#  split() this breaks down a string into substring\n",
    "#  replace() this replaces a string with aanother string\n",
    "#  count() \n"
   ]
  },
  {
   "cell_type": "code",
   "execution_count": 7,
   "id": "e086462a",
   "metadata": {},
   "outputs": [
    {
     "name": "stdout",
     "output_type": "stream",
     "text": [
      "MANGO\n"
     ]
    }
   ],
   "source": [
    "fruit = \"mango\"\n",
    "print(fruit.upper())"
   ]
  },
  {
   "cell_type": "code",
   "execution_count": 8,
   "id": "fec3c9a8",
   "metadata": {},
   "outputs": [
    {
     "name": "stdout",
     "output_type": "stream",
     "text": [
      "amala\n"
     ]
    }
   ],
   "source": [
    "food =  \"AMALA\"\n",
    "print(food.lower())"
   ]
  },
  {
   "cell_type": "code",
   "execution_count": 9,
   "id": "e190df4c",
   "metadata": {},
   "outputs": [
    {
     "name": "stdout",
     "output_type": "stream",
     "text": [
      "The name of my school is unilorin\n"
     ]
    }
   ],
   "source": [
    "text2 =  \"   The name of my school is unilorin \"\n",
    "print(text2.strip())"
   ]
  },
  {
   "cell_type": "code",
   "execution_count": 10,
   "id": "c53a0a2a",
   "metadata": {},
   "outputs": [
    {
     "name": "stdout",
     "output_type": "stream",
     "text": [
      "SaLMAN\n"
     ]
    }
   ],
   "source": [
    "user =  \"sAlman\"\n",
    "print(user.swapcase())"
   ]
  },
  {
   "cell_type": "code",
   "execution_count": 11,
   "id": "e5087550",
   "metadata": {},
   "outputs": [
    {
     "name": "stdout",
     "output_type": "stream",
     "text": [
      "['   The na', 'e of ', 'y school is unilorin ']\n"
     ]
    }
   ],
   "source": [
    "lst =  text2.split(\"m\")\n",
    "print(lst)"
   ]
  },
  {
   "cell_type": "code",
   "execution_count": 12,
   "id": "e3984205",
   "metadata": {},
   "outputs": [
    {
     "name": "stdout",
     "output_type": "stream",
     "text": [
      "   The name of my school is UI \n"
     ]
    }
   ],
   "source": [
    "new_text =  text2.replace(\"unilorin\",\"UI\")\n",
    "print(new_text)"
   ]
  },
  {
   "cell_type": "code",
   "execution_count": 13,
   "id": "976055c0",
   "metadata": {},
   "outputs": [
    {
     "name": "stdout",
     "output_type": "stream",
     "text": [
      "1\n"
     ]
    }
   ],
   "source": [
    "n_o_l = text2.count(\"a\")\n",
    "print(n_o_l)"
   ]
  },
  {
   "cell_type": "code",
   "execution_count": 14,
   "id": "f2fd80f9",
   "metadata": {},
   "outputs": [
    {
     "name": "stdout",
     "output_type": "stream",
     "text": [
      "My name is Sulaiman Muhammed i am 21 years old , the name of my school is UI\n"
     ]
    }
   ],
   "source": [
    "nme = \"Sualaiman Adeshino\"\n",
    "age =  21\n",
    "school = \"UI\"\n",
    "txt = \"My name is {} i am {} years old , the name of my school is {}\"\n",
    "print(txt.format(name,age,school))"
   ]
  },
  {
   "cell_type": "code",
   "execution_count": 15,
   "id": "8d1d8180",
   "metadata": {},
   "outputs": [
    {
     "name": "stdout",
     "output_type": "stream",
     "text": [
      "We are the so-called \"Vikings\" from the north \n"
     ]
    }
   ],
   "source": [
    "qte = \"We are the so-called \\\"Vikings\\\" from the north \"\n",
    "print(qte)"
   ]
  },
  {
   "cell_type": "markdown",
   "id": "91bb0fee",
   "metadata": {},
   "source": [
    " # Casting : changing from one data type to another\n",
    " # str() converts int or float to string\n",
    " # int() converts str or float to int\n",
    " # float() converts int or str to float"
   ]
  },
  {
   "cell_type": "code",
   "execution_count": 16,
   "id": "eb3af73d",
   "metadata": {},
   "outputs": [
    {
     "name": "stdout",
     "output_type": "stream",
     "text": [
      "Today's date is 28\n"
     ]
    }
   ],
   "source": [
    "print(\"Today's date is \"+ str(28))"
   ]
  },
  {
   "cell_type": "code",
   "execution_count": 17,
   "id": "cdc474e5",
   "metadata": {},
   "outputs": [
    {
     "name": "stdout",
     "output_type": "stream",
     "text": [
      "40\n"
     ]
    }
   ],
   "source": [
    "print(int(\"20\")+20)"
   ]
  },
  {
   "cell_type": "code",
   "execution_count": 18,
   "id": "d575510f",
   "metadata": {},
   "outputs": [
    {
     "name": "stdout",
     "output_type": "stream",
     "text": [
      "1\n"
     ]
    }
   ],
   "source": [
    "x = 20/12\n",
    "print(int(x))"
   ]
  },
  {
   "cell_type": "markdown",
   "id": "66894a12",
   "metadata": {},
   "source": [
    "# operators\n",
    "#  Arithmetic operators\n",
    "# + ,- ,*,/ ,%,**,//\n",
    "\n",
    "# Assignment Operators\n",
    "# = \n",
    "# += \n",
    "# -=\n",
    "# *=\n",
    "# /=\n"
   ]
  },
  {
   "cell_type": "code",
   "execution_count": 19,
   "id": "7a1db4ec",
   "metadata": {},
   "outputs": [
    {
     "name": "stdout",
     "output_type": "stream",
     "text": [
      "1\n"
     ]
    }
   ],
   "source": [
    "x ,y = 20,12\n",
    "print(x//12)"
   ]
  },
  {
   "cell_type": "code",
   "execution_count": 20,
   "id": "67e8d863",
   "metadata": {},
   "outputs": [
    {
     "name": "stdout",
     "output_type": "stream",
     "text": [
      "22\n"
     ]
    }
   ],
   "source": [
    "a = 20\n",
    "a += 12\n",
    "a -=10\n",
    "print(a)"
   ]
  },
  {
   "cell_type": "code",
   "execution_count": 21,
   "id": "6bd764b3",
   "metadata": {},
   "outputs": [
    {
     "name": "stdout",
     "output_type": "stream",
     "text": [
      "2\n"
     ]
    }
   ],
   "source": [
    "b = 36\n",
    "b *=2\n",
    "b %=10\n",
    "print(b)"
   ]
  },
  {
   "cell_type": "markdown",
   "id": "3672bb55",
   "metadata": {},
   "source": [
    "# comparison operators\n",
    "# == equals to\n",
    "# != not equals to \n",
    "# >\n",
    "# <\n",
    "# >=\n",
    "# <=\n",
    "\n",
    "\n",
    "# Logical Operators\n",
    "# and : all conditions must be true\n",
    "# or : one of the condition must be true\n"
   ]
  },
  {
   "cell_type": "markdown",
   "id": "40bf4c44",
   "metadata": {},
   "source": [
    "# conditional statement in python\n",
    "#  if and else statement"
   ]
  },
  {
   "cell_type": "code",
   "execution_count": 22,
   "id": "cec81691",
   "metadata": {},
   "outputs": [
    {
     "name": "stdout",
     "output_type": "stream",
     "text": [
      "enter age-8\n",
      "negative number not allowed \n"
     ]
    }
   ],
   "source": [
    "age = int(input(\"enter age\"))\n",
    "\n",
    "if age<0:\n",
    "    print(\"negative number not allowed \")\n",
    "elif age >=18:\n",
    "    print(\"welcome back\")\n",
    "elif age <18: \n",
    "     print(\"you are not allowed to use this app\")\n",
    "else:\n",
    "    print(\"invalid input\")"
   ]
  },
  {
   "cell_type": "markdown",
   "id": "3e465bb0",
   "metadata": {},
   "source": [
    "# loops in python\n",
    "# for loop"
   ]
  },
  {
   "cell_type": "code",
   "execution_count": 26,
   "id": "6e2efd27",
   "metadata": {},
   "outputs": [
    {
     "name": "stdout",
     "output_type": "stream",
     "text": [
      "0\n",
      "1\n",
      "3\n",
      "6\n",
      "10\n",
      "15\n",
      "21\n",
      "28\n",
      "36\n",
      "45\n",
      "55\n"
     ]
    }
   ],
   "source": [
    "a =0\n",
    "for i in range(0,11):\n",
    "    a +=i\n",
    "print(a)\n",
    "    "
   ]
  },
  {
   "cell_type": "code",
   "execution_count": 28,
   "id": "af5f7242",
   "metadata": {},
   "outputs": [
    {
     "name": "stdout",
     "output_type": "stream",
     "text": [
      "2\n",
      "4\n",
      "6\n",
      "8\n",
      "10\n",
      "12\n",
      "14\n",
      "16\n",
      "18\n"
     ]
    }
   ],
   "source": [
    "for i in range(1,20):\n",
    "    if i%2==0:\n",
    "        print(i)"
   ]
  },
  {
   "cell_type": "code",
   "execution_count": 39,
   "id": "1b6baf4c",
   "metadata": {},
   "outputs": [
    {
     "name": "stdout",
     "output_type": "stream",
     "text": [
      "2\n"
     ]
    }
   ],
   "source": [
    "t = \"we are the so-called vikings\"\n",
    "count = 0\n",
    "#print(t[0])\n",
    "for i in range(len(t)):\n",
    "    if t[i] == \"l\":\n",
    "        count +=1\n",
    "print(count)"
   ]
  },
  {
   "cell_type": "code",
   "execution_count": 48,
   "id": "16fc4381",
   "metadata": {},
   "outputs": [
    {
     "name": "stdout",
     "output_type": "stream",
     "text": [
      "we are the so-called aikings\n"
     ]
    }
   ],
   "source": [
    "for i in range(len(t)):\n",
    "    if t[i] == \" \":\n",
    "        new_t =t.replace(\"v\",\"a\")\n",
    "print(new_t)"
   ]
  },
  {
   "cell_type": "code",
   "execution_count": null,
   "id": "8e5ee753",
   "metadata": {},
   "outputs": [],
   "source": []
  }
 ],
 "metadata": {
  "kernelspec": {
   "display_name": "Python 3 (ipykernel)",
   "language": "python",
   "name": "python3"
  },
  "language_info": {
   "codemirror_mode": {
    "name": "ipython",
    "version": 3
   },
   "file_extension": ".py",
   "mimetype": "text/x-python",
   "name": "python",
   "nbconvert_exporter": "python",
   "pygments_lexer": "ipython3",
   "version": "3.10.5"
  }
 },
 "nbformat": 4,
 "nbformat_minor": 5
}
