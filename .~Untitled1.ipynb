{
 "cells": [
  {
   "cell_type": "markdown",
   "id": "c09d6000",
   "metadata": {},
   "source": [
    "# write a program that will change this commas to dots and dots to comma\n",
    "# Text = \"123,345,765.90,\""
   ]
  },
  {
   "cell_type": "code",
   "execution_count": 1,
   "id": "4235aade",
   "metadata": {},
   "outputs": [
    {
     "name": "stdout",
     "output_type": "stream",
     "text": [
      "123,345,765.90,\n",
      "123,345,765.90,\n",
      "123,345,765.90,\n",
      "123,345,765.90,\n",
      "123,345,765.90,\n",
      "123,345,765.90,\n",
      "123,345,765.90,\n",
      "123,345,765.90,\n",
      "123,345,765.90,\n",
      "123,345,765.90,\n",
      "123,345,765.90,\n",
      "123,345,765.90,\n",
      "123,345,765.90,\n",
      "123,345,765.90,\n",
      "123,345,765.90,\n"
     ]
    }
   ],
   "source": [
    "txt = \"123,345,765.90,\"\n",
    "for i in range(len(txt)):\n",
    "    print(txt)"
   ]
  },
  {
   "cell_type": "code",
   "execution_count": 2,
   "id": "3bdf2272",
   "metadata": {},
   "outputs": [
    {
     "name": "stdout",
     "output_type": "stream",
     "text": [
      "123.345.765.90.\n"
     ]
    }
   ],
   "source": [
    "for i in range(len(txt)):\n",
    "    if txt[i] == \",\":\n",
    "        new_txt = txt.replace(\",\",\".\")\n",
    "print(new_txt)"
   ]
  },
  {
   "cell_type": "markdown",
   "id": "fab78105",
   "metadata": {},
   "source": [
    "# write a program to remove the character which have even index values of a given string\n"
   ]
  },
  {
   "cell_type": "code",
   "execution_count": 3,
   "id": "4329afeb",
   "metadata": {},
   "outputs": [
    {
     "name": "stdout",
     "output_type": "stream",
     "text": [
      "i am an amazing ceatue\n"
     ]
    }
   ],
   "source": [
    "txt = \"i am an amazing creature\"\n",
    "for i in range(len(txt)):\n",
    "    if i %2==0:\n",
    "        new_txt = txt.replace(txt[i],\"\")\n",
    "print(new_txt)"
   ]
  },
  {
   "cell_type": "code",
   "execution_count": 4,
   "id": "63dd90b3",
   "metadata": {},
   "outputs": [
    {
     "name": "stdout",
     "output_type": "stream",
     "text": [
      "h\n",
      "e\n",
      "l\n",
      "l\n"
     ]
    }
   ],
   "source": [
    "word = \"hello world\"\n",
    "for i in word:\n",
    "    if i==\"o\":\n",
    "        break\n",
    "    print(i)"
   ]
  },
  {
   "cell_type": "code",
   "execution_count": 5,
   "id": "d2577f73",
   "metadata": {},
   "outputs": [
    {
     "name": "stdout",
     "output_type": "stream",
     "text": [
      "enter number of courses12\n",
      "enter score quit\n"
     ]
    }
   ],
   "source": [
    "number_course = int(input(\"enter number of courses\"))\n",
    "\n",
    "for i in range(number_course):\n",
    "    score = input(\"enter score \")\n",
    "    if score == \"quit\":\n",
    "        break\n",
    "    print(score)"
   ]
  },
  {
   "cell_type": "code",
   "execution_count": 6,
   "id": "1e2cb493",
   "metadata": {},
   "outputs": [
    {
     "name": "stdout",
     "output_type": "stream",
     "text": [
      "w\n",
      "e\n",
      " \n",
      "r\n",
      "e\n",
      " \n",
      "t\n",
      "h\n",
      "e\n",
      " \n",
      "s\n",
      "o\n",
      "-\n",
      "c\n",
      "l\n",
      "l\n",
      "e\n",
      "d\n",
      " \n",
      "v\n",
      "i\n",
      "k\n",
      "i\n",
      "n\n",
      "g\n",
      "s\n",
      " \n",
      "f\n",
      "r\n",
      "o\n",
      "m\n",
      " \n",
      "t\n",
      "h\n",
      "e\n",
      " \n",
      "n\n",
      "o\n",
      "r\n",
      "t\n",
      "h\n"
     ]
    }
   ],
   "source": [
    "#continue to skip a data if the condition is true\n",
    "quote = \"we are the so-called vikings from the north\"\n",
    "for i in quote:\n",
    "    if i==\"a\":\n",
    "        continue\n",
    "    print(i)"
   ]
  },
  {
   "cell_type": "markdown",
   "id": "0d8ea6b9",
   "metadata": {},
   "source": [
    "#  nested for loop i.e having a for loop in another for loop"
   ]
  },
  {
   "cell_type": "code",
   "execution_count": 7,
   "id": "61dbfbb0",
   "metadata": {},
   "outputs": [
    {
     "name": "stdout",
     "output_type": "stream",
     "text": [
      "1x1=1\n",
      "1x2=2\n",
      "1x3=3\n",
      "1x4=4\n",
      "1x5=5\n",
      "1x6=6\n",
      "1x7=7\n",
      "1x8=8\n",
      "1x9=9\n",
      "1x10=10\n",
      "1x11=11\n",
      "1x12=12\n",
      "2x1=2\n",
      "2x2=4\n",
      "2x3=6\n",
      "2x4=8\n",
      "2x5=10\n",
      "2x6=12\n",
      "2x7=14\n",
      "2x8=16\n",
      "2x9=18\n",
      "2x10=20\n",
      "2x11=22\n",
      "2x12=24\n",
      "3x1=3\n",
      "3x2=6\n",
      "3x3=9\n",
      "3x4=12\n",
      "3x5=15\n",
      "3x6=18\n",
      "3x7=21\n",
      "3x8=24\n",
      "3x9=27\n",
      "3x10=30\n",
      "3x11=33\n",
      "3x12=36\n",
      "4x1=4\n",
      "4x2=8\n",
      "4x3=12\n",
      "4x4=16\n",
      "4x5=20\n",
      "4x6=24\n",
      "4x7=28\n",
      "4x8=32\n",
      "4x9=36\n",
      "4x10=40\n",
      "4x11=44\n",
      "4x12=48\n",
      "5x1=5\n",
      "5x2=10\n",
      "5x3=15\n",
      "5x4=20\n",
      "5x5=25\n",
      "5x6=30\n",
      "5x7=35\n",
      "5x8=40\n",
      "5x9=45\n",
      "5x10=50\n",
      "5x11=55\n",
      "5x12=60\n",
      "6x1=6\n",
      "6x2=12\n",
      "6x3=18\n",
      "6x4=24\n",
      "6x5=30\n",
      "6x6=36\n",
      "6x7=42\n",
      "6x8=48\n",
      "6x9=54\n",
      "6x10=60\n",
      "6x11=66\n",
      "6x12=72\n",
      "7x1=7\n",
      "7x2=14\n",
      "7x3=21\n",
      "7x4=28\n",
      "7x5=35\n",
      "7x6=42\n",
      "7x7=49\n",
      "7x8=56\n",
      "7x9=63\n",
      "7x10=70\n",
      "7x11=77\n",
      "7x12=84\n",
      "8x1=8\n",
      "8x2=16\n",
      "8x3=24\n",
      "8x4=32\n",
      "8x5=40\n",
      "8x6=48\n",
      "8x7=56\n",
      "8x8=64\n",
      "8x9=72\n",
      "8x10=80\n",
      "8x11=88\n",
      "8x12=96\n",
      "9x1=9\n",
      "9x2=18\n",
      "9x3=27\n",
      "9x4=36\n",
      "9x5=45\n",
      "9x6=54\n",
      "9x7=63\n",
      "9x8=72\n",
      "9x9=81\n",
      "9x10=90\n",
      "9x11=99\n",
      "9x12=108\n",
      "10x1=10\n",
      "10x2=20\n",
      "10x3=30\n",
      "10x4=40\n",
      "10x5=50\n",
      "10x6=60\n",
      "10x7=70\n",
      "10x8=80\n",
      "10x9=90\n",
      "10x10=100\n",
      "10x11=110\n",
      "10x12=120\n",
      "11x1=11\n",
      "11x2=22\n",
      "11x3=33\n",
      "11x4=44\n",
      "11x5=55\n",
      "11x6=66\n",
      "11x7=77\n",
      "11x8=88\n",
      "11x9=99\n",
      "11x10=110\n",
      "11x11=121\n",
      "11x12=132\n",
      "12x1=12\n",
      "12x2=24\n",
      "12x3=36\n",
      "12x4=48\n",
      "12x5=60\n",
      "12x6=72\n",
      "12x7=84\n",
      "12x8=96\n",
      "12x9=108\n",
      "12x10=120\n",
      "12x11=132\n",
      "12x12=144\n"
     ]
    }
   ],
   "source": [
    "#multiplication table using nested for loop\n",
    "\n",
    "for i in range(1,13):\n",
    "    for j in range(1,13):\n",
    "        ans = i*j\n",
    "        table = \"{}x{}={}\"\n",
    "        print(table.format(i,j,ans))\n",
    "\n"
   ]
  },
  {
   "cell_type": "code",
   "execution_count": 8,
   "id": "2920a67a",
   "metadata": {},
   "outputs": [],
   "source": [
    "for i in range(100):\n",
    "    pass\n",
    "    "
   ]
  },
  {
   "cell_type": "code",
   "execution_count": 9,
   "id": "51065750",
   "metadata": {},
   "outputs": [
    {
     "name": "stdout",
     "output_type": "stream",
     "text": [
      "1\n",
      "2\n",
      "3\n",
      "4\n",
      "5\n",
      "6\n",
      "7\n",
      "8\n",
      "9\n",
      "10\n"
     ]
    }
   ],
   "source": [
    "# write a while loop to print 1 - 10\n",
    "num = 1\n",
    "while num<=10:\n",
    "    print(num)\n",
    "    num += 1"
   ]
  },
  {
   "cell_type": "code",
   "execution_count": 10,
   "id": "403c68a0",
   "metadata": {},
   "outputs": [
    {
     "name": "stdout",
     "output_type": "stream",
     "text": [
      "enter your score 23\n",
      "enter your score -12\n"
     ]
    }
   ],
   "source": [
    "#write a while loop to enter scores and add \n",
    "\n",
    "total_score = 0\n",
    "score =0\n",
    "while score >= 0:\n",
    "    score = int(input(\"enter your score \"))\n",
    "    "
   ]
  },
  {
   "cell_type": "code",
   "execution_count": 9,
   "id": "0701508a",
   "metadata": {},
   "outputs": [
    {
     "name": "stdout",
     "output_type": "stream",
     "text": [
      "enter your score12\n",
      "enter your score12\n",
      "enter your score13\n",
      "enter your score14\n",
      "enter your score12\n",
      "enter your score15\n",
      "enter your score-2\n",
      "78\n"
     ]
    }
   ],
   "source": [
    "t_score = 0\n",
    "score = \"\"\n",
    "while True:\n",
    "    score = eval(input(\"enter your score\"))\n",
    "    \n",
    "    if score <0:\n",
    "        \n",
    "        break\n",
    "    t_score += score\n",
    "print(t_score)"
   ]
  },
  {
   "cell_type": "code",
   "execution_count": null,
   "id": "84d3c5fa",
   "metadata": {},
   "outputs": [],
   "source": [
    "#write a simple program that can calculate the cgpa of a student\n",
    "\n",
    "\n",
    "#enter number of courses using for loop\n",
    "# score for each courses \n",
    "#calculate the total score \n"
   ]
  }
 ],
 "metadata": {
  "kernelspec": {
   "display_name": "Python 3 (ipykernel)",
   "language": "python",
   "name": "python3"
  },
  "language_info": {
   "codemirror_mode": {
    "name": "ipython",
    "version": 3
   },
   "file_extension": ".py",
   "mimetype": "text/x-python",
   "name": "python",
   "nbconvert_exporter": "python",
   "pygments_lexer": "ipython3",
   "version": "3.10.5"
  }
 },
 "nbformat": 4,
 "nbformat_minor": 5
}
